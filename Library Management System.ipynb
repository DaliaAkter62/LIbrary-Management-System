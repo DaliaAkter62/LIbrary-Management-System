{
 "cells": [
  {
   "cell_type": "code",
   "execution_count": 11,
   "id": "45d1c05c-3ba7-4e0d-ac6c-ef146793dfa5",
   "metadata": {},
   "outputs": [],
   "source": [
    "import pandas as pd\n",
    "import numpy as np\n",
    "import re\n",
    "import matplotlib.pyplot as plt"
   ]
  },
  {
   "cell_type": "code",
   "execution_count": 12,
   "id": "b13d7bd7-4a95-40a0-bc56-263ab1661963",
   "metadata": {},
   "outputs": [],
   "source": [
    "# Load Data from CSV File\n",
    "def load_data(file_path):\n",
    "    try:\n",
    "        return pd.read_csv(file_path)\n",
    "    except FileNotFoundError:\n",
    "        print(\"File not found. Starting with an empty library.\")\n",
    "        return pd.DataFrame(columns=['Book ID', 'Title', 'Author', 'Genre', 'Availability', 'Borrower'])"
   ]
  },
  {
   "cell_type": "code",
   "execution_count": 13,
   "id": "028f5929-9a25-492d-9834-3ea4548d88fb",
   "metadata": {},
   "outputs": [],
   "source": [
    "# Save Data to CSV File\n",
    "def save_data(data, file_path):\n",
    "    data.to_csv(file_path, index=False)\n",
    "    print(f\"Data saved to {file_path}\")"
   ]
  },
  {
   "cell_type": "code",
   "execution_count": 14,
   "id": "ddc7fabb-adcf-4e6b-9ce4-fbfe82945270",
   "metadata": {},
   "outputs": [],
   "source": [
    "# Add a New Book\n",
    "def add_book(data):\n",
    "    book_id = input(\"Enter Book ID (e.g., BK001): \")\n",
    "    if not re.match(r\"BK\\d{3}\", book_id):\n",
    "        print(\"Invalid Book ID format. Must match BKXXX.\")\n",
    "        return\n",
    "    title = input(\"Enter Title: \")\n",
    "    author = input(\"Enter Author: \")\n",
    "    genre = input(\"Enter Genre: \")\n",
    "    availability = \"Yes\"\n",
    "    data.loc[len(data)] = [book_id, title, author, genre, availability, None]\n",
    "    print(\"Book added successfully.\")"
   ]
  },
  {
   "cell_type": "code",
   "execution_count": 15,
   "id": "c393ce26-4568-4cab-bf4d-c24c02297abb",
   "metadata": {},
   "outputs": [],
   "source": [
    "# Remove a Book\n",
    "def remove_book(data):\n",
    "    book_id = input(\"Enter Book ID to remove: \")\n",
    "    if book_id in data['Book ID'].values:\n",
    "        data.drop(data[data['Book ID'] == book_id].index, inplace=True)\n",
    "        print(\"Book removed successfully.\")\n",
    "    else:\n",
    "        print(\"Book ID not found.\")"
   ]
  },
  {
   "cell_type": "code",
   "execution_count": 16,
   "id": "c0e0077c-2f5d-4480-8edb-5390f187f42b",
   "metadata": {},
   "outputs": [],
   "source": [
    "# Update Book Details\n",
    "def update_book(data):\n",
    "    book_id = input(\"Enter Book ID to update: \")\n",
    "    if book_id in data['Book ID'].values:\n",
    "        print(\"Choose field to update:\")\n",
    "        print(\"1. Title\\n2. Author\\n3. Genre\\n4. Availability\\n5. Borrower\")\n",
    "        choice = int(input(\"Enter your choice: \"))\n",
    "        if choice == 1:\n",
    "            data.loc[data['Book ID'] == book_id, 'Title'] = input(\"Enter new Title: \")\n",
    "        elif choice == 2:\n",
    "            data.loc[data['Book ID'] == book_id, 'Author'] = input(\"Enter new Author: \")\n",
    "        elif choice == 3:\n",
    "            data.loc[data['Book ID'] == book_id, 'Genre'] = input(\"Enter new Genre: \")\n",
    "        elif choice == 4:\n",
    "            data.loc[data['Book ID'] == book_id, 'Availability'] = input(\"Enter Availability (Yes/No): \")\n",
    "        elif choice == 5:\n",
    "            data.loc[data['Book ID'] == book_id, 'Borrower'] = input(\"Enter Borrower: \")\n",
    "        else:\n",
    "            print(\"Invalid choice.\")\n",
    "        print(\"Book details updated.\")\n",
    "    else:\n",
    "        print(\"Book ID not found.\")"
   ]
  },
  {
   "cell_type": "code",
   "execution_count": 17,
   "id": "08d987cb-abac-44bb-882b-4a5ad9ca1bdb",
   "metadata": {},
   "outputs": [],
   "source": [
    "# Borrow a Book\n",
    "def borrow_book(data):\n",
    "    book_id = input(\"Enter Book ID to borrow: \")\n",
    "    if book_id in data['Book ID'].values:\n",
    "        if data.loc[data['Book ID'] == book_id, 'Availability'].values[0] == \"Yes\":\n",
    "            borrower = input(\"Enter Borrower Name: \")\n",
    "            data.loc[data['Book ID'] == book_id, 'Availability'] = \"No\"\n",
    "            data.loc[data['Book ID'] == book_id, 'Borrower'] = borrower\n",
    "            print(\"Book borrowed successfully.\")\n",
    "        else:\n",
    "            print(\"Book is already borrowed.\")\n",
    "    else:\n",
    "        print(\"Book ID not found.\")"
   ]
  },
  {
   "cell_type": "code",
   "execution_count": 18,
   "id": "07435403-1648-44ec-96d7-eb2efa7472fc",
   "metadata": {},
   "outputs": [],
   "source": [
    "# Return a Book\n",
    "def return_book(data):\n",
    "    book_id = input(\"Enter Book ID to return: \")\n",
    "    if book_id in data['Book ID'].values:\n",
    "        if data.loc[data['Book ID'] == book_id, 'Availability'].values[0] == \"No\":\n",
    "            data.loc[data['Book ID'] == book_id, 'Availability'] = \"Yes\"\n",
    "            data.loc[data['Book ID'] == book_id, 'Borrower'] = None\n",
    "            print(\"Book returned successfully.\")\n",
    "        else:\n",
    "            print(\"Book is already available.\")\n",
    "    else:\n",
    "        print(\"Book ID not found.\")"
   ]
  },
  {
   "cell_type": "code",
   "execution_count": 19,
   "id": "963db132-57e4-4eb3-b423-bf8942b38aa8",
   "metadata": {},
   "outputs": [],
   "source": [
    "# Search and Filter Books\n",
    "def search_books(data):\n",
    "    field = input(\"Search by (Title/Author/Genre): \").lower()\n",
    "    query = input(\"Enter search query: \")\n",
    "    result = data[data[field.capitalize()].str.contains(query, na=False, case=False)]\n",
    "    print(result)\n",
    "\n",
    "def filter_books(data):\n",
    "    print(\"1. Show only available books\\n2. List books borrowed by a specific user\")\n",
    "    choice = int(input(\"Enter your choice: \"))\n",
    "    if choice == 1:\n",
    "        print(data[data['Availability'] == \"Yes\"])\n",
    "    elif choice == 2:\n",
    "        borrower = input(\"Enter Borrower Name: \")\n",
    "        print(data[data['Borrower'] == borrower])\n",
    "    else:\n",
    "        print(\"Invalid choice.\")"
   ]
  },
  {
   "cell_type": "code",
   "execution_count": 20,
   "id": "dcf83465-4fd4-4404-9f4a-5a95059779aa",
   "metadata": {},
   "outputs": [],
   "source": [
    "# Data Visualization\n",
    "def visualize_data(data):\n",
    "    genre_count = data['Genre'].value_counts()\n",
    "    availability_count = data['Availability'].value_counts()\n",
    "\n",
    "    # Bar Chart for Genres\n",
    "    plt.figure(figsize=(10, 5))\n",
    "    genre_count.plot(kind='bar')\n",
    "    plt.title(\"Number of Books by Genre\")\n",
    "    plt.xlabel(\"Genre\")\n",
    "    plt.ylabel(\"Number of Books\")\n",
    "    plt.show()\n",
    "\n",
    "    # Pie Chart for Availability\n",
    "    availability_count.plot(kind='pie', autopct=\"%1.1f%%\", startangle=90)\n",
    "    plt.title(\"Availability Status\")\n",
    "    plt.ylabel(\"\")\n",
    "    plt.show()"
   ]
  },
  {
   "cell_type": "code",
   "execution_count": 21,
   "id": "3927ee94-90bb-47b1-af13-81339367a94a",
   "metadata": {},
   "outputs": [],
   "source": [
    "# Statistics Using NumPy\n",
    "def calculate_statistics(data):\n",
    "    total_books = len(data)\n",
    "    most_borrowed_genre = data['Genre'][data['Availability'] == \"No\"].mode()[0]\n",
    "    print(f\"Total number of books: {total_books}\")\n",
    "    print(f\"Most borrowed genre: {most_borrowed_genre}\")"
   ]
  },
  {
   "cell_type": "code",
   "execution_count": 22,
   "id": "9defbe47-86dc-4047-af30-98ad0ba04a77",
   "metadata": {},
   "outputs": [],
   "source": [
    "# Interactive Console Menu\n",
    "def menu(data, file_path):\n",
    "    while True:\n",
    "        print(\"\\nLibrary Management System\")\n",
    "        print(\"1. View all books\")\n",
    "        print(\"2. Add a book\")\n",
    "        print(\"3. Remove a book\")\n",
    "        print(\"4. Update a book\")\n",
    "        print(\"5. Borrow a book\")\n",
    "        print(\"6. Return a book\")\n",
    "        print(\"7. Search for a book\")\n",
    "        print(\"8. Filter books\")\n",
    "        print(\"9. View statistics and visualizations\")\n",
    "        print(\"10. Save data to CSV\")\n",
    "        print(\"11. Exit\")\n",
    "\n",
    "        choice = int(input(\"Enter your choice: \"))\n",
    "\n",
    "        if choice == 1:\n",
    "            print(data)\n",
    "        elif choice == 2:\n",
    "            add_book(data)\n",
    "        elif choice == 3:\n",
    "            remove_book(data)\n",
    "        elif choice == 4:\n",
    "            update_book(data)\n",
    "        elif choice == 5:\n",
    "            borrow_book(data)\n",
    "        elif choice == 6:\n",
    "            return_book(data)\n",
    "        elif choice == 7:\n",
    "            search_books(data)\n",
    "        elif choice == 8:\n",
    "            filter_books(data)\n",
    "        elif choice == 9:\n",
    "            visualize_data(data)\n",
    "            calculate_statistics(data)\n",
    "        elif choice == 10:\n",
    "            save_data(data, file_path)\n",
    "        elif choice == 11:\n",
    "            save_data(data, file_path)\n",
    "            break\n",
    "        else:\n",
    "            print(\"Invalid choice. Please try again.\")"
   ]
  },
  {
   "cell_type": "code",
   "execution_count": null,
   "id": "faec8a97-fac3-4fba-8c9d-eb06396656b5",
   "metadata": {},
   "outputs": [
    {
     "name": "stdout",
     "output_type": "stream",
     "text": [
      "\n",
      "Library Management System\n",
      "1. View all books\n",
      "2. Add a book\n",
      "3. Remove a book\n",
      "4. Update a book\n",
      "5. Borrow a book\n",
      "6. Return a book\n",
      "7. Search for a book\n",
      "8. Filter books\n",
      "9. View statistics and visualizations\n",
      "10. Save data to CSV\n",
      "11. Exit\n"
     ]
    }
   ],
   "source": [
    "# Main Program\n",
    "if __name__ == \"__main__\":\n",
    "    file_path = \"library_data.csv\"\n",
    "    library_data = load_data(file_path)\n",
    "    menu(library_data, file_path)"
   ]
  }
 ],
 "metadata": {
  "kernelspec": {
   "display_name": "Python 3 (ipykernel)",
   "language": "python",
   "name": "python3"
  },
  "language_info": {
   "codemirror_mode": {
    "name": "ipython",
    "version": 3
   },
   "file_extension": ".py",
   "mimetype": "text/x-python",
   "name": "python",
   "nbconvert_exporter": "python",
   "pygments_lexer": "ipython3",
   "version": "3.12.4"
  }
 },
 "nbformat": 4,
 "nbformat_minor": 5
}
