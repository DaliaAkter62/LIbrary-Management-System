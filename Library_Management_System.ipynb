{
  "nbformat": 4,
  "nbformat_minor": 0,
  "metadata": {
    "colab": {
      "provenance": []
    },
    "kernelspec": {
      "name": "python3",
      "display_name": "Python 3"
    },
    "language_info": {
      "name": "python"
    }
  },
  "cells": [
    {
      "cell_type": "code",
      "execution_count": 1,
      "metadata": {
        "id": "8VJ4d2toWPOj"
      },
      "outputs": [],
      "source": [
        "import pandas as pd"
      ]
    },
    {
      "cell_type": "code",
      "source": [
        "import csv"
      ],
      "metadata": {
        "id": "LLL_UE6lfgIG"
      },
      "execution_count": 9,
      "outputs": []
    },
    {
      "cell_type": "code",
      "source": [
        "data=[\n",
        "    [\"Book ID\",\"title\",\"Author\",\"Genre\",\"Availabilty\",\"Borrower\"],\n",
        "[1,\"The great gatsby\",\"F.Scott Fitzgerald\",\"Fiction\",\"yes\",\"None\"],\n",
        "[2,\"To Kill a Mockingbird\",\"Harper Lee\",\"Fiction\",\"yes\",\"None\"],\n",
        "[3,\"Pride and Prejudice\",\"Jane Austen\",\"Fiction\",\"yes\",\"None\"]\n",
        "]\n",
        "with open(\"library_data.csv\",\"w\",newline=\"\") as file:\n",
        "    writer=csv.writer(file)\n",
        "    writer.writerows(data)"
      ],
      "metadata": {
        "id": "yckjblo6fnNh"
      },
      "execution_count": 12,
      "outputs": []
    },
    {
      "cell_type": "code",
      "source": [
        "file_path=\"library_data.csv\"\n",
        "library_data=pd.read_csv(file_path)\n",
        "print(library_data.head())"
      ],
      "metadata": {
        "colab": {
          "base_uri": "https://localhost:8080/"
        },
        "id": "8IeEPjycX9kJ",
        "outputId": "291c1713-02ca-4843-a78b-663673793329"
      },
      "execution_count": 13,
      "outputs": [
        {
          "output_type": "stream",
          "name": "stdout",
          "text": [
            "   Book ID                  title              Author    Genre Availabilty  \\\n",
            "0        1       The great gatsby  F.Scott Fitzgerald  Fiction         yes   \n",
            "1        2  To Kill a Mockingbird          Harper Lee  Fiction         yes   \n",
            "2        3    Pride and Prejudice         Jane Austen  Fiction         yes   \n",
            "\n",
            "   Borrower  \n",
            "0       NaN  \n",
            "1       NaN  \n",
            "2       NaN  \n"
          ]
        }
      ]
    },
    {
      "cell_type": "code",
      "source": [
        "def add_book(df,book_details):\n",
        "  df=pd.concat([df,pd.DataFrame([book_details])],ignore_index=True)\n",
        "  return df\n",
        ""
      ],
      "metadata": {
        "id": "L-sLcIVfiTSF"
      },
      "execution_count": 16,
      "outputs": []
    },
    {
      "cell_type": "code",
      "source": [
        "def remove_book(df,book_id):\n",
        "  df=df[df[\"Book ID\"]!=book_id]\n",
        "  return df"
      ],
      "metadata": {
        "id": "BKsdKntSjEU1"
      },
      "execution_count": 1,
      "outputs": []
    },
    {
      "cell_type": "code",
      "source": [
        "def update_book_details(df,book_id,borrower_name=none):\n",
        "  df.loc[df[\"Book ID\"]==book_id,column]=value\n",
        "  return df"
      ],
      "metadata": {
        "colab": {
          "base_uri": "https://localhost:8080/",
          "height": 176
        },
        "id": "yM51l_fsos39",
        "outputId": "5117a71b-5fb0-4efd-a81e-9e9e118ba2f3"
      },
      "execution_count": 2,
      "outputs": [
        {
          "output_type": "error",
          "ename": "NameError",
          "evalue": "name 'none' is not defined",
          "traceback": [
            "\u001b[0;31m---------------------------------------------------------------------------\u001b[0m",
            "\u001b[0;31mNameError\u001b[0m                                 Traceback (most recent call last)",
            "\u001b[0;32m<ipython-input-2-9bfed1a4a778>\u001b[0m in \u001b[0;36m<cell line: 1>\u001b[0;34m()\u001b[0m\n\u001b[0;32m----> 1\u001b[0;31m \u001b[0;32mdef\u001b[0m \u001b[0mupdate_book_details\u001b[0m\u001b[0;34m(\u001b[0m\u001b[0mdf\u001b[0m\u001b[0;34m,\u001b[0m\u001b[0mbook_id\u001b[0m\u001b[0;34m,\u001b[0m\u001b[0mborrower_name\u001b[0m\u001b[0;34m=\u001b[0m\u001b[0mnone\u001b[0m\u001b[0;34m)\u001b[0m\u001b[0;34m:\u001b[0m\u001b[0;34m\u001b[0m\u001b[0;34m\u001b[0m\u001b[0m\n\u001b[0m\u001b[1;32m      2\u001b[0m   \u001b[0mdf\u001b[0m\u001b[0;34m.\u001b[0m\u001b[0mloc\u001b[0m\u001b[0;34m[\u001b[0m\u001b[0mdf\u001b[0m\u001b[0;34m[\u001b[0m\u001b[0;34m\"Book ID\"\u001b[0m\u001b[0;34m]\u001b[0m\u001b[0;34m==\u001b[0m\u001b[0mbook_id\u001b[0m\u001b[0;34m,\u001b[0m\u001b[0mcolumn\u001b[0m\u001b[0;34m]\u001b[0m\u001b[0;34m=\u001b[0m\u001b[0mvalue\u001b[0m\u001b[0;34m\u001b[0m\u001b[0;34m\u001b[0m\u001b[0m\n\u001b[1;32m      3\u001b[0m   \u001b[0;32mreturn\u001b[0m \u001b[0mdf\u001b[0m\u001b[0;34m\u001b[0m\u001b[0;34m\u001b[0m\u001b[0m\n",
            "\u001b[0;31mNameError\u001b[0m: name 'none' is not defined"
          ]
        }
      ]
    },
    {
      "cell_type": "code",
      "source": [],
      "metadata": {
        "id": "bSQRM1Z6kxW2"
      },
      "execution_count": null,
      "outputs": []
    },
    {
      "cell_type": "markdown",
      "source": [],
      "metadata": {
        "id": "0j1CUqy_iR-E"
      }
    },
    {
      "cell_type": "markdown",
      "source": [],
      "metadata": {
        "id": "uMQqDy_uiKfe"
      }
    }
  ]
}